{
  "nbformat": 4,
  "nbformat_minor": 0,
  "metadata": {
    "colab": {
      "provenance": [],
      "authorship_tag": "ABX9TyOqfsrEz2iBXQXwCQo2qU7E",
      "include_colab_link": true
    },
    "kernelspec": {
      "name": "python3",
      "display_name": "Python 3"
    },
    "language_info": {
      "name": "python"
    }
  },
  "cells": [
    {
      "cell_type": "markdown",
      "metadata": {
        "id": "view-in-github",
        "colab_type": "text"
      },
      "source": [
        "<a href=\"https://colab.research.google.com/github/abou-zithar/the-gradiant-desecnt/blob/main/the_gradiant_desecn.ipynb\" target=\"_parent\"><img src=\"https://colab.research.google.com/assets/colab-badge.svg\" alt=\"Open In Colab\"/></a>"
      ]
    },
    {
      "cell_type": "markdown",
      "source": [
        "# the gradiant desecnt"
      ],
      "metadata": {
        "id": "bGHibI4sKotG"
      }
    },
    {
      "cell_type": "code",
      "execution_count": null,
      "metadata": {
        "id": "klJDURHFEZen"
      },
      "outputs": [],
      "source": [
        "import numpy as np"
      ]
    },
    {
      "cell_type": "code",
      "source": [
        "def gradiant_desecnt(x,y):\n",
        "  m_curr=b_curr=0\n",
        "  iterations=1000\n",
        "  n=len(x)\n",
        "  learning_rate=0.08\n",
        "  #all is that is just starting as try and error\n",
        "  for i in range(iterations):\n",
        "    y_predict=m_curr*x+b_curr\n",
        "    cost=(1/n)*sum([val**2 for val in (y-y_predict)])\n",
        "    md=-(2/n)*sum(x*(y-y_predict))\n",
        "    bd=-(2/n)*sum(y-y_predict)\n",
        "    m_curr=m_curr-learning_rate*md\n",
        "    b_curr=b_curr-learning_rate*bd\n",
        "    print('m= {} ,b= {} ,cost= {} ,iteration= {}'.format(m_curr,b_curr,cost,i))\n"
      ],
      "metadata": {
        "id": "VD4AlnKJEc0v"
      },
      "execution_count": null,
      "outputs": []
    },
    {
      "cell_type": "code",
      "source": [
        "x=np.array([1,2,3,4,5])\n",
        "y=np.array([5,7,9,11,13])"
      ],
      "metadata": {
        "id": "2atHuEAfH6yW"
      },
      "execution_count": null,
      "outputs": []
    },
    {
      "cell_type": "code",
      "source": [
        "gradiant_desecnt(x,y)"
      ],
      "metadata": {
        "id": "m-90vRxPJ4Qy"
      },
      "execution_count": null,
      "outputs": []
    },
    {
      "cell_type": "markdown",
      "source": [],
      "metadata": {
        "id": "gI8Cxl74J7X4"
      }
    }
  ]
}